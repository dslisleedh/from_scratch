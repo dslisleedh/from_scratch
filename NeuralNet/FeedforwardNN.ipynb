{
 "cells": [
  {
   "cell_type": "markdown",
   "id": "b98d80eb-496a-4a3b-92c9-05b91811fdee",
   "metadata": {},
   "source": [
    "<h1> Feedforward Fully-connected Neuralnetwork </h1>\n",
    "\n",
    "\n",
    "<h3>Proto</h3>\n",
    "단순하게 학습정도만 구현할것임. 버전관리하면서 기능 추가해볼것  \n",
    "\n",
    "batch_size : size of mini-batch INT  \n",
    "n_iteration : number of iterations INT  \n",
    "n_neurons : number of neurons to hidden layer INT    \n",
    "n_layers : number of hidden layers INT    \n",
    "learning_rate : learning rate FLOAT    \n",
    "hidden_activation : activation function. [ 'sigmoid', 'relu' ]   \n",
    "output_activation : activation function for last layer. [ 'sigmoid', 'relu', 'softmax']  \n",
    "cost_function : cost function [ 'crossentropy', 'mse' ]  \n",
    "optimizer : gradient descent algorithm. [ 'minibatchSGD' ]  \n",
    "kernel_initializer : kernel initializer. [ 'he', 'savier' ]  \n",
    "\n",
    "앞으로구현할것:  \n",
    "Crossentropy backpropagation\n"
   ]
  },
  {
   "cell_type": "code",
   "execution_count": 1,
   "id": "23a32707-a8ec-4ef2-bad4-a2bcb78e0474",
   "metadata": {},
   "outputs": [],
   "source": [
    "import pandas as pd\n",
    "import numpy as np\n",
    "from collections import Counter"
   ]
  },
  {
   "cell_type": "code",
   "execution_count": 22,
   "id": "3e155a8e-bd59-4dae-aa1b-83504bd19d7c",
   "metadata": {},
   "outputs": [],
   "source": [
    "#preprocess\n",
    "\n",
    "s = 'https://archive.ics.uci.edu/ml/machine-learning-databases/iris/iris.data'\n",
    "df = pd.read_csv(s,\n",
    "                 header=None,\n",
    "                 encoding='utf-8')\n",
    "\n",
    "y = df.iloc[0:100,4].values\n",
    "y = np.where(y == 'Iris-setosa', 0, 1)\n",
    "X = df.iloc[0:100, [0, 2]].values"
   ]
  },
  {
   "cell_type": "code",
   "execution_count": 138,
   "id": "29dece13-5bc5-4697-8ab3-9e24990e97b8",
   "metadata": {},
   "outputs": [],
   "source": [
    "class FullyconnectedNN(object):\n",
    "    def __init__(self, n_iteration = 100, shuffle = True, batch_size = 32, n_neurons = 2, n_layers = 2, learning_rate = 0.1, hidden_activation = 'relu', output_activation = 'relu',\n",
    "                 cost_function = 'mse', optimizer = 'minibatchSGD', random_state = None, kernel_initializer = 'he'):\n",
    "        self.n_iteration = n_iteration\n",
    "        self.shuffle = shuffle\n",
    "        self.batch_size = batch_size\n",
    "        self.n_layers = n_layers\n",
    "        self.n_neurons = n_neurons\n",
    "        self.hidden_activation = hidden_activation\n",
    "        self.learning_rate = learning_rate\n",
    "        self.output_activation = output_activation\n",
    "        self.cost_function_ = cost_function\n",
    "        self.optimizer = optimizer\n",
    "        self.random_state = random_state\n",
    "        self.kernel_initializer = kernel_initializer\n",
    "        \n",
    "    def fit(self, X, y):   \n",
    "        def mse(y_hat, y):\n",
    "            return np.square(np.subtract(y_hat, y)).mean()\n",
    "        def cross_entropy(y_hat, y):\n",
    "            #add delta to prevent y_hat to be zero\n",
    "            delta = 1e-7 \n",
    "            return -np.sum(y*np.log(y_hat+delta))\n",
    "        \n",
    "        \n",
    "        if isinstance(X, pd.DataFrame):\n",
    "            X = X.to_numpy()\n",
    "        assert X.shape[0] == len(y), \"X and y don't match.\"\n",
    "        rgen = np.random.RandomState(self.random_state)\n",
    "        \n",
    "        self.w_ = []\n",
    "        self.b_ = []\n",
    "        \n",
    "        if self.kernel_initializer == 'he':\n",
    "            scale = [np.sqrt(2/X.shape[1]), np.sqrt(2/self.n_neurons)]\n",
    "        else:\n",
    "            scale = [.01, .01]\n",
    "        \n",
    "        self.w_.append(rgen.normal(loc = .0, scale = scale[0], size = X.shape[1] * self.n_neurons).reshape(X.shape[1], self.n_neurons))\n",
    "        self.b_.append(rgen.normal(loc = .0, scale = scale[0], size = self.n_neurons))\n",
    "        for _ in range(self.n_layers - 1):\n",
    "            self.w_.append(rgen.normal(loc = .0, scale = scale[1], size = np.power(self.n_neurons,2)).reshape(self.n_neurons,self.n_neurons))\n",
    "            self.b_.append(rgen.normal(loc = .0, scale = scale[1], size = self.n_neurons))\n",
    "            \n",
    "        if self.cost_function_ in ['crossentropy']:\n",
    "            self.w_.append(rgen.normal(loc = .0, scale = scale[1], size = len(Counter(y)) * self.n_neurons).reshape(len(Counter(y)), self.n_neurons))\n",
    "            self.b_.append(rgen.normal(loc = .0, scale = scale[1], size = len(Counter(y))))\n",
    "        else:\n",
    "            self.w_.append(rgen.normal(loc = .0, scale = scale[1], size = self.n_neurons))\n",
    "            self.b_.append(rgen.normal(loc = .0, scale = scale[1], size = 1))\n",
    "        \n",
    "        \n",
    "        self.cost_ = []\n",
    "        \n",
    "        def create_minibatches(y):\n",
    "            indices = np.arange(len(y))\n",
    "            if self.shuffle:\n",
    "                rgen.shuffle(indices)\n",
    "            cut = [x for x in range(0, len(indices), self.batch_size)] + [len(indices)]\n",
    "            mini_batches = []\n",
    "            for i in range(1,len(cut)):\n",
    "                mini_batches.append(indices[cut[i-1]:cut[i]])\n",
    "            return mini_batches\n",
    "        \n",
    "        for _ in range(self.n_iteration):\n",
    "            batches = create_minibatches(y)\n",
    "            cost = []\n",
    "            for batch in batches:\n",
    "                X_batch = X[tuple(batch),:]\n",
    "                y_batch = [y[int(batch_idx)] for batch_idx in batch]\n",
    "                \n",
    "                #forward-propagation\n",
    "                self._y_hat = self.predict(X_batch)\n",
    "                if self.cost_function_ == 'crossentropy':\n",
    "                    cost.append(cross_entropy(self._y_hat, y_batch))\n",
    "                if self.cost_function_ == 'mse':\n",
    "                    cost.append(mse(self._y_hat, y_batch))\n",
    "                \n",
    "                #back-propagation\n",
    "                self._d = []\n",
    "                for i in range(1,self.n_layers + 1):\n",
    "                    if self.cost_function_ == 'mse':\n",
    "                        if i == 1:\n",
    "                            self._d.append( ((self._y_hat - y_batch) * self._o_prime[-1]).mean(axis = 0) )\n",
    "                            self.w_[-1] = self.w_[-1] - (self.learning_rate * self._d[-1] * self._o[-1].mean(axis = 0))\n",
    "                            self.b_[-1] = self.b_[-1] - (self.learning_rate * self._d[-1])\n",
    "                        else:\n",
    "                            self._d.append( self._o_prime[-i].mean(axis = 0) *  np.sum(np.dot(self._d[-1], self.w_[-(i-1)].T), axis = 0) )\n",
    "                            self.w_[-i] = self.w_[-i] - (self.learning_rate * np.dot(self._d[-1][:,None], self._o[-i].mean(axis = 0)[:,None].T) ).T\n",
    "                            self.b_[-i] = self.b_[-i] - (self.learning_rate * self._d[-1])\n",
    "                \n",
    "                else:\n",
    "                    self._d.append( self._o_prime[0].mean(axis = 0) * np.sum(np.dot(nn._d[-1], nn.w_[1].T), axis = 0) )\n",
    "                    self.w_[0] = self.w_[0] - (self.learning_rate * np.dot(self._d[-1][:,None], X_batch.mean(axis = 0)[:,None].T) ).T\n",
    "                    self.b_[0] = self.b_[0] - (self.learning_rate * self._d[-1])\n",
    "\n",
    "            self.cost_.append(sum(cost)/len(cost))\n",
    "        \n",
    "        return self\n",
    "            \n",
    "        \n",
    "    def predict(self, X):\n",
    "        def softmax(z):\n",
    "            assert len(z.shape) == 2\n",
    "            s = np.max(z, axis=1)\n",
    "            s = s[:, np.newaxis]\n",
    "            e_x = np.exp(z - s)\n",
    "            div = np.sum(e_x, axis=1)\n",
    "            div = div[:, np.newaxis]\n",
    "            return e_x / div\n",
    "        self._o = []\n",
    "        self._o_prime = []\n",
    "        \n",
    "        if self.hidden_activation == 'sigmoid':\n",
    "            hidden_activation = lambda x:1/(1+np.exp(-x))\n",
    "            def hidden_activation_prime(x):\n",
    "                rev = (1-hidden_activation(x))\n",
    "                return hidden_activation(x) * rev\n",
    "        if self.hidden_activation == 'relu':\n",
    "            hidden_activation = lambda x:np.maximum(x,0)\n",
    "            hidden_activation_prime = lambda x:np.heaviside(x,0)\n",
    "        \n",
    "        if self.output_activation == 'sigmoid':\n",
    "            output_activation = lambda x:1/(1+np.exp(-x))\n",
    "            def output_activation_prime(x):\n",
    "                rev = (1-output_activation(x))\n",
    "                return output_activation(x) * rev\n",
    "        if self.output_activation == 'relu':\n",
    "            output_activation = lambda x:np.maximum(x,0)\n",
    "            output_activation_prime = lambda x:np.heaviside(x,0)\n",
    "        if self.output_activation == 'softmax':\n",
    "            def output_activation(z):\n",
    "                assert len(z.shape) == 2\n",
    "                s = np.max(z, axis=1)\n",
    "                s = s[:, np.newaxis]\n",
    "                e_x = np.exp(z - s)\n",
    "                div = np.sum(e_x, axis=1)\n",
    "                div = div[:, np.newaxis]\n",
    "                return e_x / div\n",
    "            \n",
    "        \n",
    "        for i in range(self.n_layers):\n",
    "            if i == 0:\n",
    "                o_ = np.matmul(X, self.w_[i]) + self.b_[i]\n",
    "                self._o.append(hidden_activation(o_))\n",
    "                self._o_prime.append(hidden_activation_prime(o_))\n",
    "                \n",
    "            else:\n",
    "                o_ = np.matmul(self._o[i-1], self.w_[i]) + self.b_[i]\n",
    "                self._o.append(hidden_activation(o_))\n",
    "                self._o_prime.append(hidden_activation_prime(o_))\n",
    "                    \n",
    "        o_ = np.matmul(self._o[self.n_layers-1], self.w_[self.n_layers]) + self.b_[self.n_layers]\n",
    "        self._o_prime.append(output_activation_prime(o_))\n",
    "        return output_activation(o_)"
   ]
  },
  {
   "cell_type": "code",
   "execution_count": 166,
   "id": "13ef6640-485f-4f5f-a2d2-6795b5286faa",
   "metadata": {},
   "outputs": [],
   "source": [
    "nn = FullyconnectedNN(output_activation='sigmoid', hidden_activation='relu', learning_rate=0.001, n_layers= 2, n_neurons = 5, n_iteration = 10000, random_state = 42)"
   ]
  },
  {
   "cell_type": "code",
   "execution_count": 167,
   "id": "3e4e6023-26b1-4356-8ea8-9996a286e0ec",
   "metadata": {},
   "outputs": [
    {
     "data": {
      "text/plain": [
       "<__main__.FullyconnectedNN at 0x1b95d204f70>"
      ]
     },
     "execution_count": 167,
     "metadata": {},
     "output_type": "execute_result"
    }
   ],
   "source": [
    "nn.fit(X,y) "
   ]
  },
  {
   "cell_type": "code",
   "execution_count": 168,
   "id": "eae1212e-fdd7-4080-a66b-eda55c2edeb6",
   "metadata": {},
   "outputs": [
    {
     "data": {
      "text/plain": [
       "[<matplotlib.lines.Line2D at 0x1b95d4acd60>]"
      ]
     },
     "execution_count": 168,
     "metadata": {},
     "output_type": "execute_result"
    },
    {
     "data": {
      "image/png": "[encoded data removed]",
      "text/plain": [
       "<Figure size 1440x576 with 1 Axes>"
      ]
     },
     "metadata": {
      "needs_background": "light"
     },
     "output_type": "display_data"
    }
   ],
   "source": [
    "import matplotlib.pyplot as plt\n",
    "fig, ax = plt.subplots(figsize = (20,8))\n",
    "plt.plot(nn.cost_)"
   ]
  },
  {
   "cell_type": "code",
   "execution_count": 178,
   "id": "20e35ece-eed5-4a99-90b4-2b3e8eff92e8",
   "metadata": {},
   "outputs": [
    {
     "data": {
      "text/plain": [
       "array([1, 0], dtype=uint8)"
      ]
     },
     "execution_count": 178,
     "metadata": {},
     "output_type": "execute_result"
    }
   ],
   "source": [
    "(pd.get_dummies(y).to_numpy())[1]"
   ]
  },
  {
   "cell_type": "code",
   "execution_count": 182,
   "id": "4b2708b0-9b48-4c70-a124-0af4dabb97f0",
   "metadata": {},
   "outputs": [
    {
     "data": {
      "text/plain": [
       "0.36787944117144233"
      ]
     },
     "execution_count": 182,
     "metadata": {},
     "output_type": "execute_result"
    }
   ],
   "source": [
    "np.exp(-1)"
   ]
  },
  {
   "cell_type": "code",
   "execution_count": 179,
   "id": "e25e451f-f44c-44e3-ab60-3867fea43918",
   "metadata": {},
   "outputs": [],
   "source": [
    "def softmax(z):\n",
    "            assert len(z.shape) == 2\n",
    "            s = np.max(z, axis=1)\n",
    "            s = s[:, np.newaxis]\n",
    "            e_x = np.exp(z - s)\n",
    "            div = np.sum(e_x, axis=1)\n",
    "            div = div[:, np.newaxis]\n",
    "            return e_x / div"
   ]
  },
  {
   "cell_type": "code",
   "execution_count": 180,
   "id": "04e06d14-f72c-43d6-bb49-49777a1463dd",
   "metadata": {
    "scrolled": true,
    "tags": []
   },
   "outputs": [
    {
     "name": "stderr",
     "output_type": "stream",
     "text": [
      "<ipython-input-179-5b7f043ea9ca>:5: RuntimeWarning: overflow encountered in exp\n",
      "  e_x = np.exp(z - s)\n",
      "<ipython-input-179-5b7f043ea9ca>:8: RuntimeWarning: invalid value encountered in true_divide\n",
      "  return e_x / div\n"
     ]
    },
    {
     "data": {
      "text/plain": [
       "array([[ 0., nan],\n",
       "       [ 0., nan],\n",
       "       [ 0., nan],\n",
       "       [ 0., nan],\n",
       "       [ 0., nan],\n",
       "       [ 0., nan],\n",
       "       [ 0., nan],\n",
       "       [ 0., nan],\n",
       "       [ 0., nan],\n",
       "       [ 0., nan],\n",
       "       [ 0., nan],\n",
       "       [ 0., nan],\n",
       "       [ 0., nan],\n",
       "       [ 0., nan],\n",
       "       [ 0., nan],\n",
       "       [ 0., nan],\n",
       "       [ 0., nan],\n",
       "       [ 0., nan],\n",
       "       [ 0., nan],\n",
       "       [ 0., nan],\n",
       "       [ 0., nan],\n",
       "       [ 0., nan],\n",
       "       [ 0., nan],\n",
       "       [ 0., nan],\n",
       "       [ 0., nan],\n",
       "       [ 0., nan],\n",
       "       [ 0., nan],\n",
       "       [ 0., nan],\n",
       "       [ 0., nan],\n",
       "       [ 0., nan],\n",
       "       [ 0., nan],\n",
       "       [ 0., nan],\n",
       "       [ 0., nan],\n",
       "       [ 0., nan],\n",
       "       [ 0., nan],\n",
       "       [ 0., nan],\n",
       "       [ 0., nan],\n",
       "       [ 0., nan],\n",
       "       [ 0., nan],\n",
       "       [ 0., nan],\n",
       "       [ 0., nan],\n",
       "       [ 0., nan],\n",
       "       [ 0., nan],\n",
       "       [ 0., nan],\n",
       "       [ 0., nan],\n",
       "       [ 0., nan],\n",
       "       [ 0., nan],\n",
       "       [ 0., nan],\n",
       "       [ 0., nan],\n",
       "       [ 0., nan],\n",
       "       [nan,  0.],\n",
       "       [nan,  0.],\n",
       "       [nan,  0.],\n",
       "       [nan,  0.],\n",
       "       [nan,  0.],\n",
       "       [nan,  0.],\n",
       "       [nan,  0.],\n",
       "       [nan,  0.],\n",
       "       [nan,  0.],\n",
       "       [nan,  0.],\n",
       "       [nan,  0.],\n",
       "       [nan,  0.],\n",
       "       [nan,  0.],\n",
       "       [nan,  0.],\n",
       "       [nan,  0.],\n",
       "       [nan,  0.],\n",
       "       [nan,  0.],\n",
       "       [nan,  0.],\n",
       "       [nan,  0.],\n",
       "       [nan,  0.],\n",
       "       [nan,  0.],\n",
       "       [nan,  0.],\n",
       "       [nan,  0.],\n",
       "       [nan,  0.],\n",
       "       [nan,  0.],\n",
       "       [nan,  0.],\n",
       "       [nan,  0.],\n",
       "       [nan,  0.],\n",
       "       [nan,  0.],\n",
       "       [nan,  0.],\n",
       "       [nan,  0.],\n",
       "       [nan,  0.],\n",
       "       [nan,  0.],\n",
       "       [nan,  0.],\n",
       "       [nan,  0.],\n",
       "       [nan,  0.],\n",
       "       [nan,  0.],\n",
       "       [nan,  0.],\n",
       "       [nan,  0.],\n",
       "       [nan,  0.],\n",
       "       [nan,  0.],\n",
       "       [nan,  0.],\n",
       "       [nan,  0.],\n",
       "       [nan,  0.],\n",
       "       [nan,  0.],\n",
       "       [nan,  0.],\n",
       "       [nan,  0.],\n",
       "       [nan,  0.],\n",
       "       [nan,  0.],\n",
       "       [nan,  0.]], dtype=float16)"
      ]
     },
     "execution_count": 180,
     "metadata": {},
     "output_type": "execute_result"
    }
   ],
   "source": [
    "softmax(pd.get_dummies(y).to_numpy())"
   ]
  },
  {
   "cell_type": "code",
   "execution_count": null,
   "id": "ba92bb7a-7d78-4aba-beb3-4318da849968",
   "metadata": {},
   "outputs": [],
   "source": []
  },
  {
   "cell_type": "code",
   "execution_count": null,
   "id": "9d45c765-7266-45af-a8c6-8bb1e3dfb959",
   "metadata": {},
   "outputs": [],
   "source": []
  }
 ],
 "metadata": {
  "kernelspec": {
   "display_name": "Python 3",
   "language": "python",
   "name": "python3"
  },
  "language_info": {
   "codemirror_mode": {
    "name": "ipython",
    "version": 3
   },
   "file_extension": ".py",
   "mimetype": "text/x-python",
   "name": "python",
   "nbconvert_exporter": "python",
   "pygments_lexer": "ipython3",
   "version": "3.8.8"
  }
 },
 "nbformat": 4,
 "nbformat_minor": 5
}
