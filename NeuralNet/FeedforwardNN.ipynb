{
 "cells": [
  {
   "cell_type": "markdown",
   "id": "b98d80eb-496a-4a3b-92c9-05b91811fdee",
   "metadata": {},
   "source": [
    "<h1> Feedforward Fully-connected Neuralnetwork </h1>\n",
    "\n",
    "\n",
    "<h3>Proto</h3>\n",
    "단순하게 학습정도만 구현할것임. 버전관리하면서 기능 추가해볼것  \n",
    "\n",
    "batch_size : size of mini-batch INT  \n",
    "n_iteration : number of iterations INT  \n",
    "n_neurons : number of neurons to hidden layer INT    \n",
    "n_layers : number of hidden layers INT    \n",
    "learning_rate : learning rate FLOAT    \n",
    "activation_function : activation function. [ 'sigmoid', 'relu' ]   \n",
    "output_activation : activation function for last layer. [ 'sigmoid', 'relu', 'softmax']  \n",
    "cost_function : cost function [ 'crossentropy', 'mse' ]  \n",
    "optimizer : gradient descent algorithm. [ 'minibatchSGD' ] "
   ]
  },
  {
   "cell_type": "code",
   "execution_count": 22,
   "id": "23a32707-a8ec-4ef2-bad4-a2bcb78e0474",
   "metadata": {},
   "outputs": [],
   "source": [
    "import pandas as pd\n",
    "import numpy as np\n",
    "from collections import Counter\n",
    "from operator import attrgetter"
   ]
  },
  {
   "cell_type": "code",
   "execution_count": 2,
   "id": "3e155a8e-bd59-4dae-aa1b-83504bd19d7c",
   "metadata": {},
   "outputs": [],
   "source": [
    "#preprocess\n",
    "\n",
    "s = 'https://archive.ics.uci.edu/ml/machine-learning-databases/iris/iris.data'\n",
    "df = pd.read_csv(s,\n",
    "                 header=None,\n",
    "                 encoding='utf-8')\n",
    "\n",
    "X, y = df.iloc[:,:4], df.iloc[:,4]\n",
    "\n",
    "def label_encoding(x):\n",
    "    if x == 'Iris-setosa':\n",
    "        return 1\n",
    "    elif x == 'Iris-virginica':\n",
    "        return 3\n",
    "    else:\n",
    "        return 2\n",
    "    \n",
    "y = list(map(label_encoding, y))"
   ]
  },
  {
   "cell_type": "code",
   "execution_count": 48,
   "id": "29dece13-5bc5-4697-8ab3-9e24990e97b8",
   "metadata": {},
   "outputs": [],
   "source": [
    "class FullyconnectedNN(object):\n",
    "    def __init__(n_iteration = 1000, shuffle = True, n_neurons = 20, n_layers = 2, learning_rate = 0.1, activation_function = 'relu', output_activation = 'relu',\n",
    "                 cost_function = 'mse', optimizer = 'minibatchSGD', random_state = 42):\n",
    "        self.n_iteration = n_iteration\n",
    "        self.shuffle = shuffles\n",
    "        self.n_layers = n_layers\n",
    "        self.n_neurons = n_neurons\n",
    "        self.activation_function = activation_function\n",
    "        self.learning_rate = learning_rate\n",
    "        self.output_activation = output_activation\n",
    "        self.cost_function = cost_function\n",
    "        self.optimizer = optimizer\n",
    "        self.random_state = random_state\n",
    "        \n",
    "    def fit(self, X, y):   \n",
    "        sigmoid = lambda x:1/(1+np.exp(-x))\n",
    "        def softmax(z):\n",
    "            assert len(z.shape) == 2\n",
    "            s = np.max(z, axis=1)\n",
    "            s = s[:, np.newaxis]\n",
    "            e_x = np.exp(z - s)\n",
    "            div = np.sum(e_x, axis=1)\n",
    "            div = div[:, np.newaxis]\n",
    "            return e_x / div\n",
    "        def mse(y_hat, y):\n",
    "            return np.power((y_hat - y), 2)\n",
    "        def cross_entropy(y_hat, y):\n",
    "            #add delta to prevent y_hat to be zero\n",
    "            delta = 1e-7 \n",
    "            return -np.sum(y*np.log(y_hat+delta))\n",
    "        \n",
    "        \n",
    "        if isinstance(X, pd.DataFrame):\n",
    "            X = X.to_numpy()\n",
    "        assert X.shape[0] = y.shape[0], \"X and y don't match.\"\n",
    "        rgen = np.random.RandomState(self.random_state)\n",
    "        def create_weight_and_bias(self):\n",
    "            self.w_ = []\n",
    "            self.b_ = []\n",
    "            self.w_.append(rgen.normal(loc = .0, scale = .01, size = X.shape[1] * self.n_neurons).reshape(X.shape[1], self.n_neurons))\n",
    "            self.b_.append(rgen.normal(loc = .0, scale = .01, size = self.n_neurons))\n",
    "            for _ in range(self.n_layers - 1):\n",
    "                self.w_.append(rgen.normal(loc = .0, scale = .01, size = np.power(self.n_neurons,2)).reshape(self.n_neurons,self.n_neurons))\n",
    "                self.b_.append(rgen.normal(loc = .0, scale = .01, size = self.n_neurons))\n",
    "                \n",
    "            if self.cost_function in ['crossentropy']:\n",
    "                self.w_.append(rgen.normal(loc = .0, scale = .01, size = len(Counter(y)) * self.n_neurons).reshape(len(Counter(y)), self.n_neurons))\n",
    "                self.b_.append(rgen.normal(loc = .0, scale = .01, size = len(Counter(y))))\n",
    "            else:\n",
    "                self.w_.append(rgen.normal(loc = .0, scale = .01, size = self.n_neurons))\n",
    "                self.b_.append(rgen.normal(loc = .0, scale = .01, size = 1))\n",
    "            \n",
    "        self.cost_ = []\n",
    "        \n",
    "        def create_minibatches(self, y):\n",
    "            indices = np.arange(len(y))\n",
    "            if self.shuffle:\n",
    "                rgen.shuffle(indices)\n",
    "            cut = [x for x in range(0, len(indices), batch_size)] + [len(indices)]\n",
    "            mini_batches = []\n",
    "            for i in range(1,len(cut)):\n",
    "                mini_batches.append([indices[cut[i-1]:cut[i]]])\n",
    "            return mini_batches\n",
    "\n",
    "        for _ in range(self.n_iteration):\n",
    "            batches = create_minibatches(y)\n",
    "            cost = []\n",
    "            for batch in batches:\n",
    "                X_batch = X[tuple(batch)]\n",
    "                y_batch = y[tuple(batch)]\n",
    "                #forward propagation\n",
    "                y_hat = predict(X)\n",
    "                if self.cost_function == 'crossentropy':\n",
    "                    cost.append(cross_entropy(y_hat,y))\n",
    "                if self.cost_function == 'mse':\n",
    "                    cost.append(mse(y_hat, y))\n",
    "                \n",
    "                \n",
    "                \n",
    "                \n",
    "            self.cost_.append(np.mean(cost))\n",
    "            return self\n",
    "            \n",
    "\n",
    "        \n",
    "    def predict(self, X):\n",
    "        assert isinstance(self.w_, np.ndarray), 'Fit weights and bias before predict'\n",
    "        self._o = []\n",
    "        self._o_prime = []\n",
    "        for i in range(self.n_layers):\n",
    "            if i == 0:\n",
    "                if self.activation_function == 'relu':\n",
    "                    self._o.append(np.maximum(np.matmul(X, self.w_[i]) + self.b_[i], 0))\n",
    "                if self.activation_function == 'sigmoid':\n",
    "                    self._o.append(sigmoid(np.matmul(X, self.w_[i]) + self.b_[i]))\n",
    "            else:\n",
    "                if self.activation_function == 'relu':\n",
    "                    self._o.append(np.maximum(np.matmul(self._o[i-1], self.w_[i]) + self.b_[i], 0))\n",
    "                    self._o_prime.append(np.heaviside(np.matmul(self._o[i-1], self.w_[i]) + self.b_[i], 0))\n",
    "                    \n",
    "                if self.activation_function == 'sigmoid':\n",
    "                    self._o.append(sigmoid(np.matmul(self._o[i-1], self.b_[i])))\n",
    "                    self._o_prime.append( sigmoid(np.matmul(self._o[i-1], self.b_[i])) * (1 - sigmoid(np.matmul(self._o[i-1], self.b_[i]))))\n",
    "                    \n",
    "        if self.output_activation == 'relu':\n",
    "            return np.maximum(np.matmul(self._o[self.n_layers], self.w_[self.n_layers + 1]) + self.b_[self.n_layers + 1], 0)\n",
    "        \n",
    "        if self.output_activation == 'sigmoid':\n",
    "            return sigmoid(np.matmul(self._o[self.n_layers], self.w_[self.n_layers + 1]) + self.b_[self.n_layers + 1])\n",
    "        \n",
    "        if self.output_activation == 'softmax':\n",
    "            return softmax(np.matmul(self._o[self.n_layers],s self.w_[self.n_layers + 1]) + self.b_[self.n_layers + 1])\n",
    "        "
   ]
  },
  {
   "cell_type": "code",
   "execution_count": 59,
   "id": "13ef6640-485f-4f5f-a2d2-6795b5286faa",
   "metadata": {},
   "outputs": [],
   "source": [
    "lis = []\n",
    "for i in range(2):\n",
    "    lis.append(np.arange(10))"
   ]
  },
  {
   "cell_type": "code",
   "execution_count": 61,
   "id": "99fb4950-2904-4541-8357-a52b3bfa8bda",
   "metadata": {},
   "outputs": [
    {
     "data": {
      "text/plain": [
       "array([0, 1, 2, 3, 4, 5, 6, 7, 8, 9])"
      ]
     },
     "execution_count": 61,
     "metadata": {},
     "output_type": "execute_result"
    }
   ],
   "source": [
    "lis[0]"
   ]
  },
  {
   "cell_type": "code",
   "execution_count": 6,
   "id": "7e56c65a-0680-4257-ac6a-f392ce3d468a",
   "metadata": {},
   "outputs": [
    {
     "data": {
      "text/plain": [
       "array([[ 0.54801982, -0.03949842, -1.65758199, -0.21650666],\n",
       "       [ 0.24798587,  1.51347502,  0.25256949, -1.10825887]])"
      ]
     },
     "execution_count": 6,
     "metadata": {},
     "output_type": "execute_result"
    }
   ],
   "source": [
    "w"
   ]
  },
  {
   "cell_type": "code",
   "execution_count": 94,
   "id": "2269f8ec-fc22-41bc-8ac1-9ee4534bc2f9",
   "metadata": {
    "scrolled": true,
    "tags": []
   },
   "outputs": [
    {
     "ename": "TypeError",
     "evalue": "bad operand type for unary -: 'list'",
     "output_type": "error",
     "traceback": [
      "\u001b[1;31m---------------------------------------------------------------------------\u001b[0m",
      "\u001b[1;31mTypeError\u001b[0m                                 Traceback (most recent call last)",
      "\u001b[1;32m<ipython-input-94-c29398fc3f31>\u001b[0m in \u001b[0;36m<module>\u001b[1;34m\u001b[0m\n\u001b[0;32m      1\u001b[0m \u001b[0msigmoid\u001b[0m \u001b[1;33m=\u001b[0m \u001b[1;32mlambda\u001b[0m \u001b[0mx\u001b[0m\u001b[1;33m:\u001b[0m \u001b[1;36m1\u001b[0m\u001b[1;33m/\u001b[0m\u001b[1;33m(\u001b[0m\u001b[1;36m1\u001b[0m\u001b[1;33m+\u001b[0m\u001b[0mnp\u001b[0m\u001b[1;33m.\u001b[0m\u001b[0mexp\u001b[0m\u001b[1;33m(\u001b[0m\u001b[1;33m-\u001b[0m\u001b[0mx\u001b[0m\u001b[1;33m)\u001b[0m\u001b[1;33m)\u001b[0m\u001b[1;33m\u001b[0m\u001b[1;33m\u001b[0m\u001b[0m\n\u001b[0;32m      2\u001b[0m \u001b[1;33m\u001b[0m\u001b[0m\n\u001b[1;32m----> 3\u001b[1;33m \u001b[0msigmoid\u001b[0m\u001b[1;33m(\u001b[0m\u001b[1;33m[\u001b[0m\u001b[1;36m.12\u001b[0m\u001b[1;33m,\u001b[0m \u001b[1;36m.14\u001b[0m\u001b[1;33m,\u001b[0m \u001b[1;36m.11\u001b[0m\u001b[1;33m,\u001b[0m \u001b[1;36m.15\u001b[0m\u001b[1;33m]\u001b[0m\u001b[1;33m)\u001b[0m\u001b[1;33m\u001b[0m\u001b[1;33m\u001b[0m\u001b[0m\n\u001b[0m",
      "\u001b[1;32m<ipython-input-94-c29398fc3f31>\u001b[0m in \u001b[0;36m<lambda>\u001b[1;34m(x)\u001b[0m\n\u001b[1;32m----> 1\u001b[1;33m \u001b[0msigmoid\u001b[0m \u001b[1;33m=\u001b[0m \u001b[1;32mlambda\u001b[0m \u001b[0mx\u001b[0m\u001b[1;33m:\u001b[0m \u001b[1;36m1\u001b[0m\u001b[1;33m/\u001b[0m\u001b[1;33m(\u001b[0m\u001b[1;36m1\u001b[0m\u001b[1;33m+\u001b[0m\u001b[0mnp\u001b[0m\u001b[1;33m.\u001b[0m\u001b[0mexp\u001b[0m\u001b[1;33m(\u001b[0m\u001b[1;33m-\u001b[0m\u001b[0mx\u001b[0m\u001b[1;33m)\u001b[0m\u001b[1;33m)\u001b[0m\u001b[1;33m\u001b[0m\u001b[1;33m\u001b[0m\u001b[0m\n\u001b[0m\u001b[0;32m      2\u001b[0m \u001b[1;33m\u001b[0m\u001b[0m\n\u001b[0;32m      3\u001b[0m \u001b[0msigmoid\u001b[0m\u001b[1;33m(\u001b[0m\u001b[1;33m[\u001b[0m\u001b[1;36m.12\u001b[0m\u001b[1;33m,\u001b[0m \u001b[1;36m.14\u001b[0m\u001b[1;33m,\u001b[0m \u001b[1;36m.11\u001b[0m\u001b[1;33m,\u001b[0m \u001b[1;36m.15\u001b[0m\u001b[1;33m]\u001b[0m\u001b[1;33m)\u001b[0m\u001b[1;33m\u001b[0m\u001b[1;33m\u001b[0m\u001b[0m\n",
      "\u001b[1;31mTypeError\u001b[0m: bad operand type for unary -: 'list'"
     ]
    }
   ],
   "source": [
    "sigmoid = lambda x: 1/(1+np.exp(-x))\n",
    "\n"
   ]
  },
  {
   "cell_type": "code",
   "execution_count": 86,
   "id": "84ea3cd2-a33e-47c1-a42c-e73a58d69ebc",
   "metadata": {},
   "outputs": [],
   "source": [
    "w_ = []\n",
    "w_.append(np.random.normal(size = 4*2).reshape(4,2))\n",
    "w_.append(np.random.normal(size = 2*2).reshape(2,2))\n",
    "b_ = []\n",
    "b_.append(np.random.normal(size = 2))\n",
    "b_.append(np.random.normal(size = 2))"
   ]
  },
  {
   "cell_type": "code",
   "execution_count": 88,
   "id": "17399648-5bf0-48bf-b655-fa908e33d513",
   "metadata": {},
   "outputs": [
    {
     "data": {
      "text/plain": [
       "[array([0.27451328, 0.21523438]), array([-0.9068835 ,  0.72553789])]"
      ]
     },
     "execution_count": 88,
     "metadata": {},
     "output_type": "execute_result"
    }
   ],
   "source": [
    "b_"
   ]
  },
  {
   "cell_type": "code",
   "execution_count": 90,
   "id": "33bfbd63-0b19-47f3-910c-25c8416145d8",
   "metadata": {
    "scrolled": true,
    "tags": []
   },
   "outputs": [
    {
     "data": {
      "text/html": [
       "<div>\n",
       "<style scoped>\n",
       "    .dataframe tbody tr th:only-of-type {\n",
       "        vertical-align: middle;\n",
       "    }\n",
       "\n",
       "    .dataframe tbody tr th {\n",
       "        vertical-align: top;\n",
       "    }\n",
       "\n",
       "    .dataframe thead th {\n",
       "        text-align: right;\n",
       "    }\n",
       "</style>\n",
       "<table border=\"1\" class=\"dataframe\">\n",
       "  <thead>\n",
       "    <tr style=\"text-align: right;\">\n",
       "      <th></th>\n",
       "      <th>0</th>\n",
       "      <th>1</th>\n",
       "    </tr>\n",
       "  </thead>\n",
       "  <tbody>\n",
       "    <tr>\n",
       "      <th>0</th>\n",
       "      <td>-2.388595</td>\n",
       "      <td>0.439545</td>\n",
       "    </tr>\n",
       "    <tr>\n",
       "      <th>1</th>\n",
       "      <td>-2.436861</td>\n",
       "      <td>0.422162</td>\n",
       "    </tr>\n",
       "    <tr>\n",
       "      <th>2</th>\n",
       "      <td>-2.398550</td>\n",
       "      <td>0.435881</td>\n",
       "    </tr>\n",
       "    <tr>\n",
       "      <th>3</th>\n",
       "      <td>-2.437708</td>\n",
       "      <td>0.421846</td>\n",
       "    </tr>\n",
       "    <tr>\n",
       "      <th>4</th>\n",
       "      <td>-2.377194</td>\n",
       "      <td>0.443629</td>\n",
       "    </tr>\n",
       "    <tr>\n",
       "      <th>...</th>\n",
       "      <td>...</td>\n",
       "      <td>...</td>\n",
       "    </tr>\n",
       "    <tr>\n",
       "      <th>145</th>\n",
       "      <td>-2.682715</td>\n",
       "      <td>0.334196</td>\n",
       "    </tr>\n",
       "    <tr>\n",
       "      <th>146</th>\n",
       "      <td>-2.681715</td>\n",
       "      <td>0.334398</td>\n",
       "    </tr>\n",
       "    <tr>\n",
       "      <th>147</th>\n",
       "      <td>-2.682706</td>\n",
       "      <td>0.334248</td>\n",
       "    </tr>\n",
       "    <tr>\n",
       "      <th>148</th>\n",
       "      <td>-2.682843</td>\n",
       "      <td>0.334197</td>\n",
       "    </tr>\n",
       "    <tr>\n",
       "      <th>149</th>\n",
       "      <td>-2.682020</td>\n",
       "      <td>0.334443</td>\n",
       "    </tr>\n",
       "  </tbody>\n",
       "</table>\n",
       "<p>150 rows × 2 columns</p>\n",
       "</div>"
      ],
      "text/plain": [
       "            0         1\n",
       "0   -2.388595  0.439545\n",
       "1   -2.436861  0.422162\n",
       "2   -2.398550  0.435881\n",
       "3   -2.437708  0.421846\n",
       "4   -2.377194  0.443629\n",
       "..        ...       ...\n",
       "145 -2.682715  0.334196\n",
       "146 -2.681715  0.334398\n",
       "147 -2.682706  0.334248\n",
       "148 -2.682843  0.334197\n",
       "149 -2.682020  0.334443\n",
       "\n",
       "[150 rows x 2 columns]"
      ]
     },
     "execution_count": 90,
     "metadata": {},
     "output_type": "execute_result"
    }
   ],
   "source": [
    "np.matmul(sigmoid(np.matmul(X, w_[0])+b_[0]), w_[1]) + b_[1]"
   ]
  },
  {
   "cell_type": "code",
   "execution_count": 125,
   "id": "ac01f701-f25b-4101-b875-c9ffca51f162",
   "metadata": {},
   "outputs": [
    {
     "name": "stdout",
     "output_type": "stream",
     "text": [
      "1\n",
      "0\n"
     ]
    }
   ],
   "source": [
    "for i in reversed(range(3-1)):\n",
    "    print(i)"
   ]
  },
  {
   "cell_type": "code",
   "execution_count": null,
   "id": "204b0d12-8ff5-4b6b-b3ab-f2d94e7a6720",
   "metadata": {},
   "outputs": [],
   "source": []
  }
 ],
 "metadata": {
  "kernelspec": {
   "display_name": "Python 3",
   "language": "python",
   "name": "python3"
  },
  "language_info": {
   "codemirror_mode": {
    "name": "ipython",
    "version": 3
   },
   "file_extension": ".py",
   "mimetype": "text/x-python",
   "name": "python",
   "nbconvert_exporter": "python",
   "pygments_lexer": "ipython3",
   "version": "3.8.8"
  }
 },
 "nbformat": 4,
 "nbformat_minor": 5
}
