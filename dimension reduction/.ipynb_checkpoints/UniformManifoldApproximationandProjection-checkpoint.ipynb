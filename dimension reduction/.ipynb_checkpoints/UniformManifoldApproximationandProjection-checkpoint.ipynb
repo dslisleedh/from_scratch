{
 "cells": [
  {
   "cell_type": "markdown",
   "id": "cae2db79-ca06-4f1b-bfe3-a52a43ea2b67",
   "metadata": {},
   "source": [
    "<h1> Uniform Manifold Approximation and Projection </h1>  \n",
    "\n",
    "<h3>https://ichi.pro/ko/cheoeumbuteo-umapeul-peulogeulaeminghaneun-bangbeob-253918307112446 / https://arxiv.org/pdf/1802.03426.pdf 를 많이 참조함 </h3>"
   ]
  },
  {
   "cell_type": "code",
   "execution_count": 159,
   "id": "44096e0a-d74e-4d45-a073-f124e10dc9c6",
   "metadata": {},
   "outputs": [],
   "source": [
    "import pandas as pd \n",
    "import numpy as np\n",
    "from sklearn import datasets\n",
    "import sklearn\n",
    "import matplotlib.pyplot as plt\n",
    "from scipy import optimize"
   ]
  },
  {
   "cell_type": "code",
   "execution_count": 63,
   "id": "92de8c07-309d-4c5d-a26a-3d1d108911cf",
   "metadata": {},
   "outputs": [],
   "source": [
    "class UMAP(object):\n",
    "    def __init__(self, n_neighbors:int, n_components:int, min_dist:float = .1, spread:float = 1., n_epoch = 300, random_state = None):\n",
    "        self.n_neighbors = n_neighbors\n",
    "        if min_dist > 1:\n",
    "            raise ValueError('min dist must be same or lower than 1')\n",
    "        else:\n",
    "            self.min_dist = min_dist\n",
    "        self.n_components = n_components\n",
    "        self.n_epoch = n_epoch\n",
    "        self.random_state = random_state\n",
    "        self.alpha = alpha\n",
    "        self.beta = beta\n",
    "        self.spread = spread\n",
    "        \n",
    "    def fit_transform(self, X):\n",
    "        if isinstance(X, pd.DataFrame):\n",
    "            X = X.to_numpy()\n",
    "        self.n_ = X.shape[0]\n",
    "        rgen = np.random.RandomState(self.random_state)\n",
    "        \n",
    "        #step1. construct high-dimention prop P\n",
    "        dist = sklearn.metrics.pairwise.euclidean_distances(X,X)\n",
    "        rho = np.where(dist.argsort(0).argsort(0)==1, dist, 0).sum(axis = 0)\n",
    "        dist = dist - np.where(np.eye(len(dist)) ,0,np.column_stack([rho for _ in range(len(dist))]))\n",
    "        \n",
    "        sigma = []\n",
    "        def compute_sum_prop(sigma, row):\n",
    "            return np.sum(np.exp(-(row/sigma)))       \n",
    "        for row in dist:\n",
    "            sigma_l = 0.\n",
    "            sigma_h = 1000.\n",
    "            for i in range(100):\n",
    "                sigma = (sigma_l + sigma_h)/2.\n",
    "                c_s = compute_sum_prop(sigma, row)\n",
    "                if self.n_neighbors - c_s < 1e-5:\n",
    "                    sigma.append(c_s)\n",
    "                    break\n",
    "                if c_s < self.n_neighbors:\n",
    "                    sigma_l = sigma\n",
    "                else:\n",
    "                    sigma_h = sigma\n",
    "        \n",
    "        P = dist * np.column_stack([sigma for _ in range(len(dist))])\n",
    "        P = (P + P.T) / 2\n",
    "        \n",
    "        #step2. construct low dimension and its prop Q\n",
    "        try :\n",
    "            reducer = sklearn.manifold.SpectralEmbedding(n_components = self.n_components, n_neighbors = self.n_neighbors, random_state = self.random_state)\n",
    "            self.low_dimension_ = reducer.fit_transform(P)\n",
    "        except:\n",
    "            self.low_dimension_ = rgen.standard_t(loc = 0., scale = 1 , size = self.n_ * self.n_components).reshape(self.n, self.n_components)\n",
    "        \n",
    "        dist2 = sklearn.metrics.pairwise.euclidean_distances(self.low_dimension_)\n",
    "        def f(dist2, min_dist):\n",
    "            return np.where(dist2 <= min_dist, 1., np.exp(-(dist2 - min_dist)))\n",
    "        dist_low_dim = lambda dist, a, b: np.power(( 1 + a * np.power(dist, 2*b) ), -1)\n",
    "        \n",
    "        def skip_diag_strided(A):\n",
    "            m = A.shape[0]\n",
    "            strided = np.lib.stride_tricks.as_strided\n",
    "            s0,s1 = A.strides\n",
    "            return strided(A.ravel()[1:], shape=(m-1,m), strides=(s0+s1,s1)).reshape(m,-1)\n",
    "\n",
    "        dist_skip = skip_diag_strided(dist)\n",
    "        f_skip = skip_diag_strided(f(dist,min_dist))\n",
    "\n",
    "        p, _ = optimize.curve_fit(dist_low_dim, dist_skip.flatten(), f_skip.flatten())\n",
    "        self.a_ = p[0]\n",
    "        self.b_ = p[1]\n",
    "        \n",
    "        Q = dist_low_dim(dist, self.a_, self.b_)\n",
    "        \n",
    "        #step3. adjust low dimension location by gradient descent for n_iter times\n",
    "        alpha = 1.\n",
    "        \n",
    "        for i in range(1, self.n_epoch+1):\n",
    "            low_dimension_grad_ = []\n",
    "            self.low_dimension_ = self.low_dimension_ - (alpha * low_dimension_grad_)\n",
    "            alpha = 1. - (i / self.n_epoch)\n",
    "        \n",
    "        return self.low_dimension_\n",
    "        "
   ]
  },
  {
   "cell_type": "code",
   "execution_count": 116,
   "id": "187e37eb-8fc6-475b-ac8f-4459f382995d",
   "metadata": {},
   "outputs": [],
   "source": [
    "X, color = datasets.make_swiss_roll(random_state=42, n_samples = 4)"
   ]
  },
  {
   "cell_type": "code",
   "execution_count": 117,
   "id": "8b9c936d-ff16-4b90-8bc9-f2199d32226c",
   "metadata": {},
   "outputs": [
    {
     "data": {
      "text/plain": [
       "array([[ 0.        , 10.32528073, 19.83610789, 22.03486492],\n",
       "       [10.32528073,  0.        , 21.80797262, 28.2016835 ],\n",
       "       [19.83610789, 21.80797262,  0.        , 21.34752391],\n",
       "       [22.03486492, 28.2016835 , 21.34752391,  0.        ]])"
      ]
     },
     "execution_count": 117,
     "metadata": {},
     "output_type": "execute_result"
    }
   ],
   "source": [
    "dist = sklearn.metrics.pairwise.euclidean_distances(X, X)\n",
    "dist"
   ]
  },
  {
   "cell_type": "code",
   "execution_count": 152,
   "id": "8dd74afb-f6cf-40f8-9314-c8780ec17049",
   "metadata": {},
   "outputs": [],
   "source": [
    "rho = [dist[x,:][dist.argsort(0)[1][x]] for x in range(len(dist))]"
   ]
  },
  {
   "cell_type": "code",
   "execution_count": 153,
   "id": "1a2c6b82-2940-41e9-ba86-5e53d9414212",
   "metadata": {},
   "outputs": [],
   "source": [
    "a = np.arange(4).reshape(2,2)\n",
    "b = np.array([0,1,0,1]).reshape(2,2)"
   ]
  },
  {
   "cell_type": "code",
   "execution_count": 158,
   "id": "d3dd7bed-da12-49cb-9f3b-f2a5ddaebcc5",
   "metadata": {},
   "outputs": [
    {
     "data": {
      "text/plain": [
       "array([[0, 1],\n",
       "       [4, 9]], dtype=int32)"
      ]
     },
     "execution_count": 158,
     "metadata": {},
     "output_type": "execute_result"
    }
   ],
   "source": [
    "np.square(a)"
   ]
  },
  {
   "cell_type": "code",
   "execution_count": 155,
   "id": "7494e94a-d4b5-4277-b3fc-2631cd658c71",
   "metadata": {},
   "outputs": [
    {
     "data": {
      "text/plain": [
       "array([[0, 1],\n",
       "       [0, 1]])"
      ]
     },
     "execution_count": 155,
     "metadata": {},
     "output_type": "execute_result"
    }
   ],
   "source": [
    "b"
   ]
  },
  {
   "cell_type": "code",
   "execution_count": 157,
   "id": "33dd33c8-86e7-4a48-a951-667ccfe01496",
   "metadata": {},
   "outputs": [
    {
     "data": {
      "text/plain": [
       "0.5"
      ]
     },
     "execution_count": 157,
     "metadata": {},
     "output_type": "execute_result"
    }
   ],
   "source": [
    "np.power(2., -1)"
   ]
  },
  {
   "cell_type": "code",
   "execution_count": 160,
   "id": "4d5d82aa-b686-402a-8af1-4da8539da592",
   "metadata": {},
   "outputs": [],
   "source": [
    "MIN_DIST = 0.25\n",
    "\n",
    "x = np.linspace(0, 3, 300)\n",
    "\n",
    "def f(x, min_dist):\n",
    "    y = []\n",
    "    for i in range(len(x)):\n",
    "        if(x[i] <= min_dist):\n",
    "            y.append(1)\n",
    "        else:\n",
    "            y.append(np.exp(- x[i] + min_dist))\n",
    "    return y\n",
    "\n",
    "dist_low_dim = lambda x, a, b: 1 / (1 + a*x**(2*b))\n",
    "\n",
    "p , _ = optimize.curve_fit(dist_low_dim, x, f(x, MIN_DIST))\n",
    "\n",
    "a = p[0]\n",
    "b = p[1] "
   ]
  },
  {
   "cell_type": "code",
   "execution_count": 221,
   "id": "2197bd72-2e23-4241-9b26-1d06eb81a350",
   "metadata": {},
   "outputs": [],
   "source": [
    "X = np.random.normal(size = 10).reshape(5,2)\n",
    "X\n",
    "\n",
    "min_dist = .1\n",
    "\n",
    "dist = sklearn.metrics.pairwise.euclidean_distances(X)\n",
    "def f(dist, min_dist):\n",
    "    return np.where(dist <= min_dist, 1., np.exp(-(dist - min_dist)))\n",
    "\n",
    "dist_low_dim = lambda dist, a, b: 1 / ( 1 + a * np.power(dist, 2*b) )\n",
    "\n",
    "def skip_diag_strided(A):\n",
    "    m = A.shape[0]\n",
    "    strided = np.lib.stride_tricks.as_strided\n",
    "    s0,s1 = A.strides\n",
    "    return strided(A.ravel()[1:], shape=(m-1,m), strides=(s0+s1,s1)).reshape(m,-1)\n",
    "\n",
    "dist_skip = skip_diag_strided(dist)\n",
    "f_skip = skip_diag_strided(f(dist,min_dist))\n",
    "\n",
    "p, _ = optimize.curve_fit(dist_low_dim, dist_skip.flatten(), f_skip.flatten())"
   ]
  },
  {
   "cell_type": "code",
   "execution_count": 222,
   "id": "c0c35bfb-3bf6-4254-9e95-25023d635325",
   "metadata": {},
   "outputs": [
    {
     "data": {
      "text/plain": [
       "array([1.55474957, 0.90903433])"
      ]
     },
     "execution_count": 222,
     "metadata": {},
     "output_type": "execute_result"
    }
   ],
   "source": [
    "p"
   ]
  },
  {
   "cell_type": "code",
   "execution_count": 223,
   "id": "d2200f88-ffc3-4a45-979c-f6f5e5b33585",
   "metadata": {},
   "outputs": [
    {
     "data": {
      "text/plain": [
       "array([[1.        , 0.67153766, 0.09930519, 0.066403  , 0.32692261],\n",
       "       [0.67153766, 1.        , 0.12525348, 0.10253851, 0.32391529],\n",
       "       [0.09930519, 0.12525348, 1.        , 0.2692068 , 0.28212937],\n",
       "       [0.066403  , 0.10253851, 0.2692068 , 1.        , 0.11228666],\n",
       "       [0.32692261, 0.32391529, 0.28212937, 0.11228666, 1.        ]])"
      ]
     },
     "execution_count": 223,
     "metadata": {},
     "output_type": "execute_result"
    }
   ],
   "source": [
    "f(dist, .1)"
   ]
  },
  {
   "cell_type": "code",
   "execution_count": 224,
   "id": "d972144b-5500-4200-805a-4326a0d63bdc",
   "metadata": {},
   "outputs": [
    {
     "data": {
      "text/plain": [
       "array([[1.        , 0.69539955, 0.11504612, 0.08939725, 0.31004615],\n",
       "       [0.69539955, 1.        , 0.13516714, 0.11754725, 0.3071142 ],\n",
       "       [0.11504612, 0.13516714, 1.        , 0.25560933, 0.26746285],\n",
       "       [0.08939725, 0.11754725, 0.25560933, 1.        , 0.12509335],\n",
       "       [0.31004615, 0.3071142 , 0.26746285, 0.12509335, 1.        ]])"
      ]
     },
     "execution_count": 224,
     "metadata": {},
     "output_type": "execute_result"
    }
   ],
   "source": [
    "dist_low_dim(dist, p[0], p[1])"
   ]
  },
  {
   "cell_type": "code",
   "execution_count": null,
   "id": "60647edc-336e-4f15-b8ba-0a1c60f2411e",
   "metadata": {},
   "outputs": [],
   "source": []
  }
 ],
 "metadata": {
  "kernelspec": {
   "display_name": "Python 3",
   "language": "python",
   "name": "python3"
  },
  "language_info": {
   "codemirror_mode": {
    "name": "ipython",
    "version": 3
   },
   "file_extension": ".py",
   "mimetype": "text/x-python",
   "name": "python",
   "nbconvert_exporter": "python",
   "pygments_lexer": "ipython3",
   "version": "3.8.8"
  }
 },
 "nbformat": 4,
 "nbformat_minor": 5
}
