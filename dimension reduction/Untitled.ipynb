{
 "cells": [
  {
   "cell_type": "code",
   "execution_count": 1,
   "id": "4fd29f2c-4afd-4da6-9384-8417825bb896",
   "metadata": {},
   "outputs": [],
   "source": [
    "from transformers import BertTokenizer\n",
    "from tokenizers import BertWordPieceTokenizer"
   ]
  },
  {
   "cell_type": "code",
   "execution_count": 2,
   "id": "9e666276-5875-47f1-b28b-722ab5296542",
   "metadata": {},
   "outputs": [
    {
     "data": {
      "text/plain": [
       "['[CLS]안녕하세요 저는 이동헌입니다.[SEP]',\n",
       " '[CLS]저는 문헌정보학과 학생입니다.[SEP]',\n",
       " '[CLS]항해중 기관손상으로 표류하였으나 자체수리한 후 정상운항한 사건[SEP]',\n",
       " '[CLS]21.3.27.22:56경 인천 남항부두에 표류선박이 있다며 신고한 사건임[SEP]']"
      ]
     },
     "execution_count": 2,
     "metadata": {},
     "output_type": "execute_result"
    }
   ],
   "source": [
    "lis = ['안녕하세요 저는 이동헌입니다.', '저는 문헌정보학과 학생입니다.', '항해중 기관손상으로 표류하였으나 자체수리한 후 정상운항한 사건', '21.3.27.22:56경 인천 남항부두에 표류선박이 있다며 신고한 사건임']\n",
    "lis2 = ['[CLS]' + str(l) + '[SEP]' for l in lis]\n",
    "\n",
    "lis2"
   ]
  },
  {
   "cell_type": "code",
   "execution_count": 17,
   "id": "c2f1b221-bf30-4b39-85f0-8b2dafe0f09b",
   "metadata": {},
   "outputs": [
    {
     "data": {
      "text/plain": [
       "('C:/Users/user/Desktop\\\\vocab.txt',\n",
       " 'C:/Users/user/Desktop\\\\special_tokens_map.json',\n",
       " 'C:/Users/user/Desktop\\\\added_tokens.json')"
      ]
     },
     "execution_count": 17,
     "metadata": {},
     "output_type": "execute_result"
    }
   ],
   "source": [
    "tokenizer = BertTokenizer.from_pretrained('bert-base-multilingual-cased', do_lower_case = False)\n",
    "tokenizer.save_pretrained('C:/Users/user/Desktop')"
   ]
  },
  {
   "cell_type": "code",
   "execution_count": 19,
   "id": "5e3f6c80-7154-421d-985a-a5960ba3d06b",
   "metadata": {},
   "outputs": [],
   "source": [
    "tokenizer = BertWordPieceTokenizer(\"C:/Users/user/Desktop/vocab.txt\", lowercase=False)"
   ]
  },
  {
   "cell_type": "code",
   "execution_count": 24,
   "id": "a1ff7156-0a23-42bd-9171-8de1bef52aaf",
   "metadata": {},
   "outputs": [
    {
     "data": {
      "text/plain": [
       "['안녕하세요 저는 이동헌입니다.',\n",
       " '저는 문헌정보학과 학생입니다.',\n",
       " '항해중 기관손상으로 표류하였으나 자체수리한 후 정상운항한 사건',\n",
       " '21.3.27.22:56경 인천 남항부두에 표류선박이 있다며 신고한 사건임']"
      ]
     },
     "execution_count": 24,
     "metadata": {},
     "output_type": "execute_result"
    }
   ],
   "source": [
    "lis"
   ]
  },
  {
   "cell_type": "code",
   "execution_count": 25,
   "id": "fe006691-2508-44b2-ab20-8936ab96b57b",
   "metadata": {},
   "outputs": [],
   "source": [
    "a = tokenizer.encode(lis[0])"
   ]
  },
  {
   "cell_type": "code",
   "execution_count": 9,
   "id": "27f2b84e-594c-4c2d-918d-6db2ae06da58",
   "metadata": {},
   "outputs": [],
   "source": [
    "from keras_bert import Tokenizer\n",
    "from keras_bert import load_trained_model_from_checkpoint, load_vocabulary\n",
    "from keras_bert import AdamWarmup, calc_train_steps"
   ]
  },
  {
   "cell_type": "code",
   "execution_count": null,
   "id": "0e7cc1a1-84bf-496b-896f-6314571c9410",
   "metadata": {},
   "outputs": [],
   "source": []
  }
 ],
 "metadata": {
  "kernelspec": {
   "display_name": "Python 3",
   "language": "python",
   "name": "python3"
  },
  "language_info": {
   "codemirror_mode": {
    "name": "ipython",
    "version": 3
   },
   "file_extension": ".py",
   "mimetype": "text/x-python",
   "name": "python",
   "nbconvert_exporter": "python",
   "pygments_lexer": "ipython3",
   "version": "3.8.8"
  }
 },
 "nbformat": 4,
 "nbformat_minor": 5
}
