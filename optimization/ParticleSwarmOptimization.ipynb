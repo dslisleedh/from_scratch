{
 "cells": [
  {
   "cell_type": "markdown",
   "id": "0c9ae7ae-af76-40bb-b0bb-45a35d9eda30",
   "metadata": {},
   "source": [
    "<h1> Particle Swarm Optimization </h1>\n",
    "\n",
    "n_particles : INT  \n",
    "alpha : upper bound of regularizing particle fitness FLOAT  \n",
    "beta : upper boudn of regularizing swarm fitness FLOAT  \n",
    "random_state : INT  \n",
    "search_space : DICT ex) a = {'a' : [1, 4], 'b' : [2, 6]}"
   ]
  },
  {
   "cell_type": "code",
   "execution_count": 1,
   "id": "2e4d2fc8-8de1-41e8-a4e3-06e7f6abfbe4",
   "metadata": {},
   "outputs": [],
   "source": [
    "import numpy as np\n",
    "import pandas as pd\n",
    "import matplotlib.pyplot as plt\n",
    "import time\n",
    "import matplotlib.animation as animation\n",
    "from mpl_toolkits.mplot3d import Axes3D"
   ]
  },
  {
   "cell_type": "code",
   "execution_count": 2,
   "id": "ce3f9679-372f-4549-94a2-91f8a2ef9446",
   "metadata": {},
   "outputs": [],
   "source": [
    "class PSO(object):\n",
    "    def __init__(self, search_space, n_particles:int, alpha:float, beta:float, w:float,random_state = None):\n",
    "        self.n_particles = n_particles\n",
    "        self.w = w\n",
    "        self.alpha = alpha\n",
    "        self.beta = beta\n",
    "        self.search_space = search_space\n",
    "        self.fit = np.zeros(n_particles)\n",
    "        self.random_state = random_state\n",
    "        self.search_keys_ = list(search_space.keys())\n",
    "                                  \n",
    "                                \n",
    "    def optimize(self, objective, n_iteration:int, opt_dir:str):\n",
    "        assert (opt_dir == 'minimize')|(opt_dir == 'maximize')\n",
    "        rgen = np.random.RandomState(self.random_state)\n",
    "        self.p_ = np.column_stack([rgen.uniform(low = search_space[f'{x}'][0], high = search_space[f'{x}'][1], size = self.n_particles) for x in self.search_keys_])\n",
    "        self.v_ = np.column_stack([rgen.normal(loc = 0., scale = .1, size = self.n_particles) for _ in range(len(self.search_keys_))])\n",
    "        self.opt_dir = opt_dir\n",
    "        self.n_iteration = n_iteration\n",
    "        alpha = rgen.uniform(low = 0, high = self.alpha, size = self.n_particles)\n",
    "        beta = rgen.uniform(low = 0, high = self.beta, size = self.n_particles)\n",
    "        self.history_ = []\n",
    "        self.history_.append(self.p_)\n",
    "        \n",
    "        self.p_ = self.p_ + self.v_\n",
    "        self.p_ = np.column_stack([np.clip(self.p_[:,x], a_min = self.search_space[f'{self.search_keys_[0]}'][0], a_max = self.search_space[f'{self.search_keys_[0]}'][1]) for x in range(len(self.search_keys_))])\n",
    "        \n",
    "        self.f_ = np.apply_along_axis(objective, axis = 1, arr = self.p_).reshape(self.n_particles, )\n",
    "        self.f_p_ = self.p_\n",
    "        if self.opt_dir == 'minimize':\n",
    "            self.f_g_p_ = self.p_[np.argmin(self.f_)]\n",
    "            self.f_g_ = np.min(self.f_)\n",
    "        if self.opt_dir == 'maximize':\n",
    "            self.f_g_p_ = self.p_[np.argmax(self.f_)]\n",
    "            self.f_g_ = np.max(self.f_)\n",
    "            \n",
    "        self.v_ = self.v_ + (alpha * (self.f_p_ - self.p_).T).T + (beta * (-self.p_ + self.f_g_p_).T).T\n",
    "        \n",
    "        self.history_.append(self.p_)\n",
    "        \n",
    "        self.a = [] ######\n",
    "        self.b = []\n",
    "        self.c = []\n",
    "        self.d = []\n",
    "        self.e = []\n",
    "        self.f = []\n",
    "        \n",
    "        for _ in range(self.n_iteration - 1):\n",
    "            self.p_ = self.p_ + self.v_\n",
    "            self.p_ = np.column_stack([np.clip(self.p_[:,x], a_min = self.search_space[f'{self.search_keys_[0]}'][0], a_max = self.search_space[f'{self.search_keys_[0]}'][1]) for x in range(len(self.search_keys_))])\n",
    "            self.history_.append(self.p_)\n",
    "            res = np.apply_along_axis(objective, axis = 1, arr = self.p_).reshape(self.n_particles, )\n",
    "            \n",
    "            if self.opt_dir == 'minimize':\n",
    "                bool_ = res < self.f_\n",
    "                self.f_ = np.where(bool_, res, self.f_)\n",
    "                self.f_p_ = np.column_stack([np.where(bool_, res, self.f_p_[:,x]) for x in range(len(self.search_keys_))])\n",
    "                if self.f_g_ > np.min(self.f_):\n",
    "                    self.f_g_ = np.min(self.f_)\n",
    "                    self.f_g_p_ = self.p_[np.argmin(self.f_)]       \n",
    "                \n",
    "#             if self.opt_dir == 'maximize':\n",
    "#                 self.f_ = res[bool(np.where(res > self.f_))]\n",
    "#                 self.f_p_ = self.p_[bool(np.where(res > self.f_))]\n",
    "#                 if self.f_g_ < np.max(self.f_):\n",
    "#                     self.f_g_ = np.max(self.f_)\n",
    "#                     self.f_g_p_ = self.p_[np.argmax(self.f_)]   \n",
    "\n",
    "                \n",
    "            alpha = rgen.uniform(low = 0, high = self.alpha, size = self.n_particles)\n",
    "            beta = rgen.uniform(low = 0, high = self.beta, size = self.n_particles)\n",
    "            \n",
    "            self.v_ = (self.w * self.v_) + (alpha * (self.f_p_ - self.p_).T).T + (beta * (self.f_g_p_ - self.p_).T).T\n",
    "        \n",
    "        print(f'Optimization result :')\n",
    "        print([f'{self.search_keys_[x]} : {self.f_g_p_[x]}' for x in range(len(self.search_keys_))])\n",
    "        \n",
    "        return self\n",
    "            "
   ]
  },
  {
   "cell_type": "code",
   "execution_count": 3,
   "id": "853391b9-2e62-49f4-9122-b45a067c1ebc",
   "metadata": {},
   "outputs": [],
   "source": [
    "def objective2(X):\n",
    "    return (X[0]**2) + (X[1]**2) \n",
    "\n",
    "search_space = {'a' : [-7,7], 'b' : [-7,7]}\n",
    "pso = PSO(n_particles = 100, search_space = search_space, alpha = .8, beta = .8, random_state = 42, w = .7)"
   ]
  },
  {
   "cell_type": "code",
   "execution_count": 4,
   "id": "4424c439-e76e-4e27-80c6-1bc42cb2e5a6",
   "metadata": {},
   "outputs": [
    {
     "name": "stdout",
     "output_type": "stream",
     "text": [
      "Optimization result :\n",
      "['a : -1.7236687539585884e-37', 'b : -2.239962390987974e-38']\n"
     ]
    },
    {
     "data": {
      "text/plain": [
       "<__main__.PSO at 0x15f0819cd00>"
      ]
     },
     "execution_count": 4,
     "metadata": {},
     "output_type": "execute_result"
    }
   ],
   "source": [
    "pso.optimize(objective = objective2, n_iteration = 500, opt_dir = 'minimize')"
   ]
  },
  {
   "cell_type": "code",
   "execution_count": 5,
   "id": "09003d78-7c52-4f14-aa2b-4eeb8da4f330",
   "metadata": {
    "tags": []
   },
   "outputs": [
    {
     "data": {
      "image/png": "[encoded data removed]",
      "text/plain": [
       "<Figure size 720x720 with 2 Axes>"
      ]
     },
     "metadata": {
      "needs_background": "light"
     },
     "output_type": "display_data"
    }
   ],
   "source": [
    "time_steps = 70\n",
    "N_nodes = 100\n",
    "\n",
    "positions = []\n",
    "solutions = []\n",
    "for i in range(time_steps):\n",
    "    positions.append(np.random.rand(2, N_nodes))\n",
    "    solutions.append(np.random.random(N_nodes))\n",
    "\n",
    "fig, ax = plt.subplots(figsize = (10, 10))\n",
    "marker_size = 25 #upped this to make points more visible\n",
    "\n",
    "\n",
    "def animate(i):\n",
    "    \"\"\" Perform animation step. \"\"\"\n",
    "    #important - the figure is cleared and new axes are added\n",
    "    fig.clear()\n",
    "    ax = fig.add_subplot(111, aspect='equal', autoscale_on=False, xlim=(-8,8), ylim=(-8,8))\n",
    "    #the new axes must be re-formatted\n",
    "    ax.set_xlim(-8,8)\n",
    "    ax.set_ylim(-8,8)\n",
    "    ax.grid(b=None)\n",
    "    ax.set_xlabel('x [m]')\n",
    "    ax.set_ylabel('y [m]')\n",
    "    # and the elements for this frame are added\n",
    "    ax.text(0.02, 0.95, 'Time step = %d' % i, transform=ax.transAxes)\n",
    "    s = ax.scatter(pso.history_[i][:,0], pso.history_[i][:,1], s = marker_size, c = solutions[i], cmap = plt.cm.jet, marker = \"o\", edgecolor = None)\n",
    "    fig.colorbar(s)\n",
    "\n",
    "ani = animation.FuncAnimation(fig, animate, interval=100, frames=range(time_steps))\n",
    "\n",
    "ani.save('animation.gif', writer='pillow')"
   ]
  },
  {
   "cell_type": "code",
   "execution_count": null,
   "id": "6e86a95d-036e-4788-a215-4edc03d9903a",
   "metadata": {},
   "outputs": [],
   "source": []
  }
 ],
 "metadata": {
  "kernelspec": {
   "display_name": "Python 3",
   "language": "python",
   "name": "python3"
  },
  "language_info": {
   "codemirror_mode": {
    "name": "ipython",
    "version": 3
   },
   "file_extension": ".py",
   "mimetype": "text/x-python",
   "name": "python",
   "nbconvert_exporter": "python",
   "pygments_lexer": "ipython3",
   "version": "3.8.8"
  }
 },
 "nbformat": 4,
 "nbformat_minor": 5
}
