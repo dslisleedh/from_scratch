{
 "cells": [
  {
   "cell_type": "markdown",
   "id": "0c9ae7ae-af76-40bb-b0bb-45a35d9eda30",
   "metadata": {},
   "source": [
    "<h1> Particle Swarm Optimization </h1>\n",
    "\n",
    "n_particles : INT  \n",
    "gamma1 : upper bound of regularizing particle fitness FLOAT  \n",
    "gamma2 : upper boudn of regularizing swarm fitness FLOAT  \n",
    "random_state : INT  \n",
    "search_space : DICT ex) a = {'a' : [1, 4], 'b' : [2, 6]}"
   ]
  },
  {
   "cell_type": "code",
   "execution_count": 1,
   "id": "2e4d2fc8-8de1-41e8-a4e3-06e7f6abfbe4",
   "metadata": {},
   "outputs": [],
   "source": [
    "import numpy as np\n",
    "import pandas as pd\n",
    "import matplotlib.pyplot as plt"
   ]
  },
  {
   "cell_type": "code",
   "execution_count": 356,
   "id": "ce3f9679-372f-4549-94a2-91f8a2ef9446",
   "metadata": {},
   "outputs": [],
   "source": [
    "class PSO(object):\n",
    "    def __init__(self, search_space, n_particles:int, gamma1:float, gamma2:float, random_state = None):\n",
    "        self.n_particles = n_particles\n",
    "        self.gamma1 = gamma1\n",
    "        self.gamma2 = gamma2\n",
    "        self.search_space = search_space\n",
    "        self.fit = np.zeros(n_particles)\n",
    "        self.random_state = random_state\n",
    "        self.search_keys_ = list(search_space.keys())\n",
    "                                  \n",
    "                                \n",
    "    def optimize(self, objective, n_iteration:int, opt_dir:str):\n",
    "        assert (opt_dir == 'minimize')|(opt_dir == 'maximize')\n",
    "        rgen = np.random.RandomState(self.random_state)\n",
    "        self.p_ = np.column_stack([rgen.uniform(low = search_space[f'{x}'][0], high = search_space[f'{x}'][1], size = self.n_particles) for x in self.search_keys_])\n",
    "        self.v_ = np.column_stack([rgen.normal(loc = 0., scale = .01, size = self.n_particles) for _ in range(len(self.search_keys_))])\n",
    "        self.opt_dir = opt_dir\n",
    "        self.n_iteration = n_iteration\n",
    "        \n",
    "        self.f_ = np.apply_along_axis(objective, axis = 1, arr = self.p_)\n",
    "        self.f_p_ = self.p_\n",
    "        \n",
    "        self.history_ = []\n",
    "        self.history_.append(self.p_)\n",
    "        \n",
    "        for _ in range(self.n_iteration-1):\n",
    "            self.p_ = self.p_ + self.v_\n",
    "            self.p_ = np.column_stack([np.clip(self.p_[:,x], a_min = self.search_space[f'{self.search_keys_[x]}'][0], a_max = self.search_space[f'{self.search_keys_[x]}'][1]) for x in range(len(self.search_keys_))])\n",
    "            self.history_.append(self.p_)\n",
    "            res = np.apply_along_axis(objective, axis = 1, arr = self.p_)\n",
    "            if self.opt_dir == 'maximize':\n",
    "                bool_ = self.f_ > res\n",
    "                self.f_ = np.max(np.column_stack([self.f_, res]), axis = 1)\n",
    "                self.f_p_[bool_] = self.p_[bool_]\n",
    "                self.f_g_p_ = self.f_p_[np.argmin(self.f_)]\n",
    "            if self.opt_dir == 'minimize':\n",
    "                bool_ = self.f_ < res\n",
    "                self.f_ = np.min(np.column_stack([self.f_, res]), axis = 1)\n",
    "                self.f_p_[bool_] = self.p_[bool_]                \n",
    "                self.f_g_p_ = self.f_p_[np.argmax(self.f_)]\n",
    "            \n",
    "            r1 = rgen.uniform(low = 0, high = self.gamma1, size = self.n_particles)\n",
    "            r2 = rgen.uniform(low = 0, high = self.gamma2, size = self.n_particles)\n",
    "            \n",
    "            \n",
    "            self.v_ = self.v_ + (r1 * (self.f_p_ - self.p_).T).T + (r2 * (-self.p_ + self.f_g_p_).T).T\n",
    "        \n",
    "        print(f'Optimization result :')\n",
    "        print([f'{self.search_keys_[x]} : {self.f_g_p_[x]}' for x in range(len(self.search_keys_))])\n",
    "        \n",
    "        return self\n",
    "            "
   ]
  },
  {
   "cell_type": "code",
   "execution_count": 360,
   "id": "bd59d39f-77e6-41dd-b860-4e3d2b7f2860",
   "metadata": {},
   "outputs": [],
   "source": [
    "def objective(X):\n",
    "    return np.power(X[0],2) + X[1] * 2 - 4"
   ]
  },
  {
   "cell_type": "code",
   "execution_count": 361,
   "id": "59929bf4-f925-4cd2-937e-321d6ba1bef6",
   "metadata": {},
   "outputs": [],
   "source": [
    "search_space = {'a':[-7,7], 'b':[-7,7]}\n",
    "pso = PSO(n_particles = 100, search_space = search_space, gamma1 = .5, gamma2 = .5, random_state = 7)"
   ]
  },
  {
   "cell_type": "code",
   "execution_count": 362,
   "id": "b7edb5ca-138e-4668-b718-5e69de37d4c1",
   "metadata": {},
   "outputs": [
    {
     "name": "stdout",
     "output_type": "stream",
     "text": [
      "Optimization result :\n",
      "['a : -6.4491310183587975', 'b : 5.2181767079049965']\n"
     ]
    },
    {
     "data": {
      "text/plain": [
       "<__main__.PSO at 0x1cd82ebbe50>"
      ]
     },
     "execution_count": 362,
     "metadata": {},
     "output_type": "execute_result"
    }
   ],
   "source": [
    "pso.optimize(objective = objective, n_iteration = 100, opt_dir = 'minimize')"
   ]
  },
  {
   "cell_type": "code",
   "execution_count": 351,
   "id": "8c176c83-2f9c-47f7-809e-af95fbb62cb8",
   "metadata": {},
   "outputs": [
    {
     "data": {
      "text/plain": [
       "array([[-6.55441428,  5.33126787],\n",
       "       [-6.90784789,  5.81137246],\n",
       "       [-6.19328843,  4.75284478],\n",
       "       [-6.12205951,  4.0769118 ],\n",
       "       [-5.99354883,  6.33208215],\n",
       "       [-6.03007336,  6.72277664],\n",
       "       [-5.84819465,  4.86030167],\n",
       "       [-7.        ,  6.00039148],\n",
       "       [-6.94945535,  4.95082736],\n",
       "       [-5.84521331,  5.85341231],\n",
       "       [-5.8928782 ,  5.3806132 ],\n",
       "       [-6.87862461,  6.14226911],\n",
       "       [-5.97949325,  3.66676   ],\n",
       "       [-6.67776867,  4.38144727],\n",
       "       [-6.19195997,  5.63909049],\n",
       "       [-6.03232191,  6.41977354],\n",
       "       [-6.08089693,  4.97637002],\n",
       "       [-6.4670517 ,  4.83264675],\n",
       "       [-6.02765682,  5.61958606],\n",
       "       [-6.43718647,  5.01840839],\n",
       "       [-6.76885081,  4.90558916],\n",
       "       [-6.12403738,  5.17254201],\n",
       "       [-6.90282576,  6.43307246],\n",
       "       [-6.52221461,  5.56345981],\n",
       "       [-6.97679328,  6.63562532],\n",
       "       [-6.4042163 ,  5.95137266],\n",
       "       [-7.        ,  3.35326782],\n",
       "       [-6.13030755,  6.39110641],\n",
       "       [-6.38938538,  6.50241566],\n",
       "       [-6.94839568,  6.81573715],\n",
       "       [-6.36214148,  4.74855223],\n",
       "       [-7.        ,  7.        ],\n",
       "       [-6.19708185,  5.20372752],\n",
       "       [-6.28634094,  5.12116504],\n",
       "       [-5.80768266,  4.19022041],\n",
       "       [-6.87894246,  6.63918983],\n",
       "       [-6.72851423,  3.83372571],\n",
       "       [-6.25151816,  5.43464414],\n",
       "       [-5.90962643,  7.        ],\n",
       "       [-5.80527224,  6.84838371],\n",
       "       [-6.06923154,  5.90538401],\n",
       "       [-5.97154246,  4.71773471],\n",
       "       [-6.98481859,  3.7916251 ],\n",
       "       [-6.3155344 ,  4.01471495],\n",
       "       [-6.75757317,  3.99723099],\n",
       "       [-6.00396194,  5.98203205],\n",
       "       [-6.12981471,  5.81973317],\n",
       "       [-7.        ,  4.46211568],\n",
       "       [-6.67217846,  6.04271516],\n",
       "       [-6.43067006,  6.57187786],\n",
       "       [-6.60727505,  5.57991961],\n",
       "       [-6.99819129,  3.98920003],\n",
       "       [-6.43219842,  6.06395711],\n",
       "       [-6.23073258,  4.77926529],\n",
       "       [-6.29582407,  5.34667915],\n",
       "       [-6.80396053,  6.26138946],\n",
       "       [-6.41124152,  6.13416651],\n",
       "       [-6.92120615,  5.6221073 ],\n",
       "       [-6.36385388,  4.51455148],\n",
       "       [-5.98924718,  5.10360014],\n",
       "       [-6.47119373,  4.5233765 ],\n",
       "       [-6.19872083,  4.82392914],\n",
       "       [-6.44913102,  5.21817671],\n",
       "       [-6.14163048,  7.        ],\n",
       "       [-6.25511648,  5.42333784],\n",
       "       [-6.53250797,  5.41786218],\n",
       "       [-6.71319142,  5.93545392],\n",
       "       [-7.        ,  6.35345079],\n",
       "       [-6.06439821,  4.90638437],\n",
       "       [-7.        ,  6.61193334],\n",
       "       [-6.73310389,  3.90576547],\n",
       "       [-5.67454298,  6.45213849],\n",
       "       [-5.87820374,  5.99100308],\n",
       "       [-5.96388792,  5.73159974],\n",
       "       [-6.4145087 ,  4.42309064],\n",
       "       [-6.80058185,  4.3596719 ],\n",
       "       [-6.47646891,  5.98284631],\n",
       "       [-5.72825838,  4.30344095],\n",
       "       [-5.89898397,  6.27270913],\n",
       "       [-6.22963897,  3.724573  ],\n",
       "       [-5.97932824,  3.79040134],\n",
       "       [-5.95362014,  4.5125704 ],\n",
       "       [-5.73436914,  5.088399  ],\n",
       "       [-6.97261703,  4.71396532],\n",
       "       [-6.41904713,  5.47206011],\n",
       "       [-6.10768532,  4.73904023],\n",
       "       [-6.73044406,  5.27731319],\n",
       "       [-5.67070365,  2.92199567],\n",
       "       [-6.43066575,  5.14573586],\n",
       "       [-6.8151972 ,  6.22310167],\n",
       "       [-6.20028022,  4.7412278 ],\n",
       "       [-6.59624479,  6.171797  ],\n",
       "       [-6.4294355 ,  4.80408912],\n",
       "       [-6.61185213,  5.04263817],\n",
       "       [-6.66088904,  4.69475532],\n",
       "       [-6.21993222,  4.37779055],\n",
       "       [-7.        ,  5.23025349],\n",
       "       [-7.        ,  5.51908388],\n",
       "       [-6.89175274,  6.0099132 ],\n",
       "       [-6.09630842,  6.16042386]])"
      ]
     },
     "execution_count": 351,
     "metadata": {},
     "output_type": "execute_result"
    }
   ],
   "source": [
    "pso.history_[99]"
   ]
  },
  {
   "cell_type": "code",
   "execution_count": 283,
   "id": "853391b9-2e62-49f4-9122-b45a067c1ebc",
   "metadata": {},
   "outputs": [],
   "source": [
    "def objective2(X):\n",
    "    return X**2\n",
    "\n",
    "search_space = {'a' : [-7,7]}\n",
    "pso = PSO(n_particles = 30, search_space = search_space, gamma1 = .3, gamma2 = .3, random_state = 42)"
   ]
  },
  {
   "cell_type": "code",
   "execution_count": 284,
   "id": "4424c439-e76e-4e27-80c6-1bc42cb2e5a6",
   "metadata": {},
   "outputs": [
    {
     "ename": "IndexError",
     "evalue": "boolean index did not match indexed array along dimension 1; dimension is 1 but corresponding boolean dimension is 30",
     "output_type": "error",
     "traceback": [
      "\u001b[1;31m---------------------------------------------------------------------------\u001b[0m",
      "\u001b[1;31mIndexError\u001b[0m                                Traceback (most recent call last)",
      "\u001b[1;32m<ipython-input-284-e5bcea5bebcb>\u001b[0m in \u001b[0;36m<module>\u001b[1;34m\u001b[0m\n\u001b[1;32m----> 1\u001b[1;33m \u001b[0mpso\u001b[0m\u001b[1;33m.\u001b[0m\u001b[0moptimize\u001b[0m\u001b[1;33m(\u001b[0m\u001b[0mobjective\u001b[0m \u001b[1;33m=\u001b[0m \u001b[0mobjective2\u001b[0m\u001b[1;33m,\u001b[0m \u001b[0mn_iteration\u001b[0m \u001b[1;33m=\u001b[0m \u001b[1;36m100\u001b[0m\u001b[1;33m,\u001b[0m \u001b[0mopt_dir\u001b[0m \u001b[1;33m=\u001b[0m \u001b[1;34m'minimize'\u001b[0m\u001b[1;33m)\u001b[0m\u001b[1;33m\u001b[0m\u001b[1;33m\u001b[0m\u001b[0m\n\u001b[0m",
      "\u001b[1;32m<ipython-input-279-21fc23e6b887>\u001b[0m in \u001b[0;36moptimize\u001b[1;34m(self, objective, n_iteration, opt_dir)\u001b[0m\n\u001b[0;32m     34\u001b[0m                 \u001b[0mbool_\u001b[0m \u001b[1;33m=\u001b[0m \u001b[0mself\u001b[0m\u001b[1;33m.\u001b[0m\u001b[0mf_\u001b[0m \u001b[1;33m<\u001b[0m \u001b[0mres\u001b[0m\u001b[1;33m\u001b[0m\u001b[1;33m\u001b[0m\u001b[0m\n\u001b[0;32m     35\u001b[0m                 \u001b[0mself\u001b[0m\u001b[1;33m.\u001b[0m\u001b[0mf_\u001b[0m \u001b[1;33m=\u001b[0m \u001b[0mnp\u001b[0m\u001b[1;33m.\u001b[0m\u001b[0mmin\u001b[0m\u001b[1;33m(\u001b[0m\u001b[0mnp\u001b[0m\u001b[1;33m.\u001b[0m\u001b[0mcolumn_stack\u001b[0m\u001b[1;33m(\u001b[0m\u001b[1;33m[\u001b[0m\u001b[0mself\u001b[0m\u001b[1;33m.\u001b[0m\u001b[0mf_\u001b[0m\u001b[1;33m,\u001b[0m \u001b[0mres\u001b[0m\u001b[1;33m]\u001b[0m\u001b[1;33m)\u001b[0m\u001b[1;33m,\u001b[0m \u001b[0maxis\u001b[0m \u001b[1;33m=\u001b[0m \u001b[1;36m1\u001b[0m\u001b[1;33m)\u001b[0m\u001b[1;33m\u001b[0m\u001b[1;33m\u001b[0m\u001b[0m\n\u001b[1;32m---> 36\u001b[1;33m                 \u001b[0mself\u001b[0m\u001b[1;33m.\u001b[0m\u001b[0mf_p_\u001b[0m\u001b[1;33m[\u001b[0m\u001b[0mbool_\u001b[0m\u001b[1;33m]\u001b[0m \u001b[1;33m=\u001b[0m \u001b[0mself\u001b[0m\u001b[1;33m.\u001b[0m\u001b[0mp_\u001b[0m\u001b[1;33m[\u001b[0m\u001b[0mbool_\u001b[0m\u001b[1;33m]\u001b[0m\u001b[1;33m\u001b[0m\u001b[1;33m\u001b[0m\u001b[0m\n\u001b[0m\u001b[0;32m     37\u001b[0m                 \u001b[0mself\u001b[0m\u001b[1;33m.\u001b[0m\u001b[0mf_g_p_\u001b[0m \u001b[1;33m=\u001b[0m \u001b[0mself\u001b[0m\u001b[1;33m.\u001b[0m\u001b[0mf_p_\u001b[0m\u001b[1;33m[\u001b[0m\u001b[0mnp\u001b[0m\u001b[1;33m.\u001b[0m\u001b[0margmax\u001b[0m\u001b[1;33m(\u001b[0m\u001b[0mself\u001b[0m\u001b[1;33m.\u001b[0m\u001b[0mf_\u001b[0m\u001b[1;33m)\u001b[0m\u001b[1;33m]\u001b[0m\u001b[1;33m\u001b[0m\u001b[1;33m\u001b[0m\u001b[0m\n\u001b[0;32m     38\u001b[0m \u001b[1;33m\u001b[0m\u001b[0m\n",
      "\u001b[1;31mIndexError\u001b[0m: boolean index did not match indexed array along dimension 1; dimension is 1 but corresponding boolean dimension is 30"
     ]
    }
   ],
   "source": [
    "pso.optimize(objective = objective2, n_iteration = 100, opt_dir = 'minimize')"
   ]
  },
  {
   "cell_type": "code",
   "execution_count": 287,
   "id": "7ebe9ef4-7a86-43c9-81f9-62904d01c9fc",
   "metadata": {},
   "outputs": [],
   "source": [
    "a = np.arange(3)"
   ]
  },
  {
   "cell_type": "code",
   "execution_count": 288,
   "id": "8c9d9182-4466-4b1e-aa6a-4c3941de34ad",
   "metadata": {},
   "outputs": [
    {
     "data": {
      "text/plain": [
       "array([0, 1, 2])"
      ]
     },
     "execution_count": 288,
     "metadata": {},
     "output_type": "execute_result"
    }
   ],
   "source": [
    "a"
   ]
  },
  {
   "cell_type": "code",
   "execution_count": 290,
   "id": "5f84f750-fa5a-46f1-a273-8555e37c7189",
   "metadata": {},
   "outputs": [
    {
     "data": {
      "text/plain": [
       "array([], dtype=int32)"
      ]
     },
     "execution_count": 290,
     "metadata": {},
     "output_type": "execute_result"
    }
   ],
   "source": []
  },
  {
   "cell_type": "code",
   "execution_count": null,
   "id": "4c9878ab-74e7-43fa-946c-3f58df662cdd",
   "metadata": {},
   "outputs": [],
   "source": []
  }
 ],
 "metadata": {
  "kernelspec": {
   "display_name": "Python 3",
   "language": "python",
   "name": "python3"
  },
  "language_info": {
   "codemirror_mode": {
    "name": "ipython",
    "version": 3
   },
   "file_extension": ".py",
   "mimetype": "text/x-python",
   "name": "python",
   "nbconvert_exporter": "python",
   "pygments_lexer": "ipython3",
   "version": "3.8.8"
  }
 },
 "nbformat": 4,
 "nbformat_minor": 5
}
