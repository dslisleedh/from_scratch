{
 "cells": [
  {
   "cell_type": "code",
   "execution_count": 1,
   "id": "9c03494f-51f6-416c-9a9a-ab7981449d9e",
   "metadata": {},
   "outputs": [],
   "source": [
    "import pandas as pd\n",
    "import numpy as np"
   ]
  },
  {
   "cell_type": "code",
   "execution_count": 37,
   "id": "a3f50db3-e445-4dea-bca6-2cd522609c55",
   "metadata": {},
   "outputs": [],
   "source": [
    "x1 = np.arange(-10, 10, 3)\n",
    "x2 = np.arange(-3, 5, 1.3)"
   ]
  },
  {
   "cell_type": "code",
   "execution_count": 38,
   "id": "c44e5d92-6e74-4dba-acef-a6b35a22090c",
   "metadata": {},
   "outputs": [
    {
     "data": {
      "text/plain": [
       "array([-10,  -7,  -4,  -1,   2,   5,   8])"
      ]
     },
     "execution_count": 38,
     "metadata": {},
     "output_type": "execute_result"
    }
   ],
   "source": [
    "x1"
   ]
  },
  {
   "cell_type": "code",
   "execution_count": 39,
   "id": "168ef106-8cdf-4486-bbbe-823c4cf10c4a",
   "metadata": {},
   "outputs": [
    {
     "data": {
      "text/plain": [
       "array([-3. , -1.7, -0.4,  0.9,  2.2,  3.5,  4.8])"
      ]
     },
     "execution_count": 39,
     "metadata": {},
     "output_type": "execute_result"
    }
   ],
   "source": [
    "x2"
   ]
  },
  {
   "cell_type": "code",
   "execution_count": 40,
   "id": "6eb875dc-b171-4aba-bf07-3fb8677a2bd5",
   "metadata": {},
   "outputs": [],
   "source": [
    "def realfunction(x1,x2):\n",
    "    return x1**2 + (x2 / 2)"
   ]
  },
  {
   "cell_type": "code",
   "execution_count": 41,
   "id": "4d7b7cc5-0baf-4b95-98e3-2b9406a4b1d2",
   "metadata": {},
   "outputs": [],
   "source": [
    "y = realfunction(x1,x2)"
   ]
  },
  {
   "cell_type": "code",
   "execution_count": 42,
   "id": "53af0407-9516-44f0-84f7-2a0d59747e7a",
   "metadata": {},
   "outputs": [
    {
     "data": {
      "text/plain": [
       "array([98.5 , 48.15, 15.8 ,  1.45,  5.1 , 26.75, 66.4 ])"
      ]
     },
     "execution_count": 42,
     "metadata": {},
     "output_type": "execute_result"
    }
   ],
   "source": [
    "y"
   ]
  },
  {
   "cell_type": "code",
   "execution_count": null,
   "id": "5f787376-a3c8-4b63-ad60-460b78d4755f",
   "metadata": {},
   "outputs": [],
   "source": []
  }
 ],
 "metadata": {
  "kernelspec": {
   "display_name": "Python 3",
   "language": "python",
   "name": "python3"
  },
  "language_info": {
   "codemirror_mode": {
    "name": "ipython",
    "version": 3
   },
   "file_extension": ".py",
   "mimetype": "text/x-python",
   "name": "python",
   "nbconvert_exporter": "python",
   "pygments_lexer": "ipython3",
   "version": "3.8.8"
  }
 },
 "nbformat": 4,
 "nbformat_minor": 5
}
